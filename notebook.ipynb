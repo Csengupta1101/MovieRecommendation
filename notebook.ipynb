{
 "cells": [
  {
   "attachments": {},
   "cell_type": "markdown",
   "metadata": {},
   "source": [
    "#### Recommenadation System\n",
    "\n",
    "In OTT platforms , music streaming services , recommendation of movies / music etc to the end user is the primary USP. It helps in user engagement and increase in subscriber base.\n",
    "\n",
    "There are primarily three types of recommendation system available.\n",
    "\n",
    "1.  Content based recommendation system\n",
    "2.  Popularity based recommendation system\n",
    "3.  Collaborative recommendation system.\n",
    "\n",
    "We will talk about all of these three . Our end goal today will be taking a user input of the content they like (Movies) and based on the same we will go ahead and recommend them contents to watch/listen."
   ]
  },
  {
   "attachments": {},
   "cell_type": "markdown",
   "metadata": {},
   "source": [
    "##### Content Based\n",
    "\n",
    "As the name suggests , this filters the recoomendation based on the content category of the user's watch list. Suppose "
   ]
  },
  {
   "cell_type": "markdown",
   "metadata": {},
   "source": []
  }
 ],
 "metadata": {
  "kernelspec": {
   "display_name": "github1",
   "language": "python",
   "name": "python3"
  },
  "language_info": {
   "name": "python",
   "version": "3.10.8 | packaged by conda-forge | (main, Nov 24 2022, 14:07:00) [MSC v.1916 64 bit (AMD64)]"
  },
  "orig_nbformat": 4,
  "vscode": {
   "interpreter": {
    "hash": "e2f1f49a464b0261529b7f879af28a2fa50ede0bedb86dbf326bb328bc03475b"
   }
  }
 },
 "nbformat": 4,
 "nbformat_minor": 2
}
